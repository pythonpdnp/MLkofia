{
  "nbformat": 4,
  "nbformat_minor": 0,
  "metadata": {
    "colab": {
      "provenance": [],
      "authorship_tag": "ABX9TyNr/rgqiPjG4MDL2df9Lypa",
      "include_colab_link": true
    },
    "kernelspec": {
      "name": "python3",
      "display_name": "Python 3"
    },
    "language_info": {
      "name": "python"
    }
  },
  "cells": [
    {
      "cell_type": "markdown",
      "metadata": {
        "id": "view-in-github",
        "colab_type": "text"
      },
      "source": [
        "<a href=\"https://colab.research.google.com/github/pythonpdnp/MS_kofia/blob/main/06_RandomForest.ipynb\" target=\"_parent\"><img src=\"https://colab.research.google.com/assets/colab-badge.svg\" alt=\"Open In Colab\"/></a>"
      ]
    },
    {
      "cell_type": "markdown",
      "source": [
        "# Random Forest"
      ],
      "metadata": {
        "id": "PRc9mSTH1B0r"
      }
    },
    {
      "cell_type": "markdown",
      "source": [
        "### 데이터 입력, 모델 학습 및 테스트"
      ],
      "metadata": {
        "id": "EQASUbewWL1I"
      }
    },
    {
      "cell_type": "code",
      "source": [
        "from sklearn.datasets import load_digits\n",
        "\n",
        "digits = load_digits()\n",
        "\n",
        "X = digits.data\n",
        "y = digits.target\n",
        "\n",
        "X.shape, y.shape"
      ],
      "metadata": {
        "id": "3JDZ-l2J15Vk",
        "colab": {
          "base_uri": "https://localhost:8080/"
        },
        "outputId": "33155a6d-f9e6-4ff0-efeb-3d676000d499"
      },
      "execution_count": null,
      "outputs": [
        {
          "output_type": "execute_result",
          "data": {
            "text/plain": [
              "((1797, 64), (1797,))"
            ]
          },
          "metadata": {},
          "execution_count": 1
        }
      ]
    },
    {
      "cell_type": "code",
      "source": [
        "from sklearn.model_selection import train_test_split\n",
        "\n",
        "X_train, X_test, y_train, y_test = train_test_split(X, y, test_size=0.2, random_state=42)"
      ],
      "metadata": {
        "id": "R2UgYsVr2YK-"
      },
      "execution_count": null,
      "outputs": []
    },
    {
      "cell_type": "code",
      "source": [
        "from sklearn.ensemble import RandomForestClassifier\n",
        "\n",
        "clf = RandomForestClassifier(n_estimators=20) # Tree 개수는 20개로, default는 100개\n",
        "clf.fit(X_train, y_train)\n",
        "\n",
        "clf.score(X_test, y_test)"
      ],
      "metadata": {
        "id": "dfFeT5EVVvW8",
        "colab": {
          "base_uri": "https://localhost:8080/"
        },
        "outputId": "666c313b-fa9c-49f5-c60d-10351016a660"
      },
      "execution_count": null,
      "outputs": [
        {
          "output_type": "execute_result",
          "data": {
            "text/plain": [
              "0.9611111111111111"
            ]
          },
          "metadata": {},
          "execution_count": 3
        }
      ]
    },
    {
      "cell_type": "markdown",
      "source": [
        "### Confusion Matrix"
      ],
      "metadata": {
        "id": "4dZTlT5TWR4r"
      }
    },
    {
      "cell_type": "code",
      "source": [
        "y_pred = clf.predict(X_test)"
      ],
      "metadata": {
        "id": "MmWkpES0VxAj"
      },
      "execution_count": null,
      "outputs": []
    },
    {
      "cell_type": "code",
      "source": [
        "from sklearn.metrics import confusion_matrix\n",
        "\n",
        "cm = confusion_matrix(y_test, y_pred)  # confusion matrix(실제값, 예측값)\n",
        "cm"
      ],
      "metadata": {
        "id": "llJnuxXVWbea",
        "colab": {
          "base_uri": "https://localhost:8080/"
        },
        "outputId": "9fc34f5e-77c3-45d2-f81a-be17dfdb781b"
      },
      "execution_count": null,
      "outputs": [
        {
          "output_type": "execute_result",
          "data": {
            "text/plain": [
              "array([[32,  0,  0,  0,  1,  0,  0,  0,  0,  0],\n",
              "       [ 0, 28,  0,  0,  0,  0,  0,  0,  0,  0],\n",
              "       [ 0,  0, 33,  0,  0,  0,  0,  0,  0,  0],\n",
              "       [ 0,  0,  0, 32,  0,  1,  0,  0,  1,  0],\n",
              "       [ 0,  0,  0,  0, 46,  0,  0,  0,  0,  0],\n",
              "       [ 0,  0,  0,  0,  0, 46,  1,  0,  0,  0],\n",
              "       [ 1,  0,  0,  0,  0,  0, 34,  0,  0,  0],\n",
              "       [ 0,  0,  0,  0,  1,  0,  0, 32,  0,  1],\n",
              "       [ 0,  1,  0,  0,  0,  0,  0,  0, 28,  1],\n",
              "       [ 0,  0,  0,  0,  0,  1,  0,  3,  1, 35]])"
            ]
          },
          "metadata": {},
          "execution_count": 5
        }
      ]
    },
    {
      "cell_type": "code",
      "source": [
        "import matplotlib.pyplot as plt\n",
        "import seaborn as sn\n",
        "\n",
        "sn.heatmap(cm, annot=True)\n",
        "plt.xlabel('Predicted')\n",
        "plt.ylabel('True')"
      ],
      "metadata": {
        "id": "hfGm_8bvWqla",
        "colab": {
          "base_uri": "https://localhost:8080/",
          "height": 467
        },
        "outputId": "f6e45cdf-727c-4cbf-f0ec-c6baff33afe5"
      },
      "execution_count": null,
      "outputs": [
        {
          "output_type": "execute_result",
          "data": {
            "text/plain": [
              "Text(50.722222222222214, 0.5, 'True')"
            ]
          },
          "metadata": {},
          "execution_count": 6
        },
        {
          "output_type": "display_data",
          "data": {
            "text/plain": [
              "<Figure size 640x480 with 2 Axes>"
            ],
            "image/png": "[encoded data removed]"
          },
          "metadata": {}
        }
      ]
    }
  ]
}