{
  "nbformat": 4,
  "nbformat_minor": 0,
  "metadata": {
    "colab": {
      "provenance": [],
      "authorship_tag": "ABX9TyMlhhjqNkBApDg0h5Djm9gV",
      "include_colab_link": true
    },
    "kernelspec": {
      "name": "python3",
      "display_name": "Python 3"
    },
    "language_info": {
      "name": "python"
    }
  },
  "cells": [
    {
      "cell_type": "markdown",
      "metadata": {
        "id": "view-in-github",
        "colab_type": "text"
      },
      "source": [
        "<a href=\"https://colab.research.google.com/github/pythonpdnp/MS_kofia/blob/main/10_gradient_descent.ipynb\" target=\"_parent\"><img src=\"https://colab.research.google.com/assets/colab-badge.svg\" alt=\"Open In Colab\"/></a>"
      ]
    },
    {
      "cell_type": "markdown",
      "source": [
        "# Gradient descent"
      ],
      "metadata": {
        "id": "2-kledNpW8rT"
      }
    },
    {
      "cell_type": "markdown",
      "source": [
        "### 수치미분(numerical_derivative) - Gradient"
      ],
      "metadata": {
        "id": "BCNWww-JAqua"
      }
    },
    {
      "cell_type": "code",
      "source": [
        "import numpy as np"
      ],
      "metadata": {
        "id": "b37Y5z6BBSsh"
      },
      "execution_count": null,
      "outputs": []
    },
    {
      "cell_type": "code",
      "source": [
        "# f(x, y) = 2x + 3xy + y^3\n",
        "\n",
        "def func(X):\n",
        "  x = X[0]\n",
        "  y = X[1]\n",
        "\n",
        "  return (2*x + 3*x*y + np.power(y,3))"
      ],
      "metadata": {
        "id": "XX_nz19sDZ4e"
      },
      "execution_count": null,
      "outputs": []
    },
    {
      "cell_type": "code",
      "source": [
        "X = np.array([1.0, 2.0])\n",
        "func(X)"
      ],
      "metadata": {
        "id": "cBQONHtkEPJg",
        "colab": {
          "base_uri": "https://localhost:8080/"
        },
        "outputId": "ceda407f-dfc2-48fe-84c4-9f1c35038e20"
      },
      "execution_count": null,
      "outputs": [
        {
          "output_type": "execute_result",
          "data": {
            "text/plain": [
              "16.0"
            ]
          },
          "metadata": {},
          "execution_count": 3
        }
      ]
    },
    {
      "cell_type": "code",
      "execution_count": null,
      "metadata": {
        "id": "WJvK6phv_o-r"
      },
      "outputs": [],
      "source": [
        "def gradient(f, X, h=1e-5):\n",
        "    \"\"\"\n",
        "    f: 미분할 함수 (함수형)\n",
        "    X: 점 (numpy 배열)\n",
        "    h: 작은 값 (차분 간격)\n",
        "    \"\"\"\n",
        "    grad = np.zeros_like(X)  # X와 같은 형상의 배열을 만듭니다.\n",
        "\n",
        "    # X는 다차원 배열도 가능하게 하고, 수정 가능하게 함\n",
        "    it = np.nditer(X, flags=['multi_index'], op_flags=['readwrite'])\n",
        "\n",
        "    while not it.finished:\n",
        "        idx = it.multi_index\n",
        "        temp = X[idx] # 현재 X[idx] 값을 저장해 둠\n",
        "\n",
        "        # f(x+h) 계산\n",
        "        X[idx] = temp + h\n",
        "        fxh1 = f(X)\n",
        "\n",
        "        # f(x-h) 계산\n",
        "        X[idx] = temp - h\n",
        "        fxh2 = f(X)\n",
        "\n",
        "        # 중앙 차분 공식에 의해 gradient 계산\n",
        "        grad[idx] = (fxh1 - fxh2) / (2 * h)\n",
        "\n",
        "        # 값을 원래대로 복구\n",
        "        X[idx] = temp\n",
        "\n",
        "        # 다음 인덱스로 이동\n",
        "        it.iternext()\n",
        "\n",
        "    return grad"
      ]
    },
    {
      "cell_type": "code",
      "source": [
        "gradient(func, X)"
      ],
      "metadata": {
        "id": "wFTKV7f-K6me",
        "colab": {
          "base_uri": "https://localhost:8080/"
        },
        "outputId": "bfe7ca69-9328-4c6e-a212-9def3983e295"
      },
      "execution_count": null,
      "outputs": [
        {
          "output_type": "execute_result",
          "data": {
            "text/plain": [
              "array([ 8., 15.])"
            ]
          },
          "metadata": {},
          "execution_count": 5
        }
      ]
    },
    {
      "cell_type": "markdown",
      "source": [
        "### 최적화 - simple regression"
      ],
      "metadata": {
        "id": "ap9zr3LFQ1BK"
      }
    },
    {
      "cell_type": "code",
      "source": [
        "x_data = np.array([1, 2, 3, 4, 5]).reshape(5,1)\n",
        "t_data = np.array([2, 3, 4, 5, 6]).reshape(5,1)"
      ],
      "metadata": {
        "id": "BEcBojQqLhYv"
      },
      "execution_count": null,
      "outputs": []
    },
    {
      "cell_type": "code",
      "source": [
        "W = np.random.rand(1,1)\n",
        "b = np.random.rand(1)"
      ],
      "metadata": {
        "id": "9LQE2CesRG78"
      },
      "execution_count": null,
      "outputs": []
    },
    {
      "cell_type": "code",
      "source": [
        "def loss_func(x, t):\n",
        "  y = np.dot(x, W) + b\n",
        "\n",
        "  return (np.sum((t-y)**2)) / len(x)"
      ],
      "metadata": {
        "id": "mZiMUwhfRiIt"
      },
      "execution_count": null,
      "outputs": []
    },
    {
      "cell_type": "code",
      "source": [
        "learning_rate = 1e-2\n",
        "\n",
        "f = lambda x : loss_func(x_data, t_data) # f(x) = loss_func(x_data, t_data)\n",
        "\n",
        "for step in range(8000):\n",
        "  W -= learning_rate * gradient(f, W)\n",
        "  b -= learning_rate * gradient(f, b)\n",
        "\n",
        "  if (step % 400 ==0):\n",
        "    print(f\"step = {step}, loss = {loss_func(x_data, t_data)}, W={W}, b={b}\")"
      ],
      "metadata": {
        "id": "TPkQ2uNmR6ld",
        "colab": {
          "base_uri": "https://localhost:8080/"
        },
        "outputId": "2dcad304-75ac-450b-cb6e-abee65ddc238"
      },
      "execution_count": null,
      "outputs": [
        {
          "output_type": "stream",
          "name": "stdout",
          "text": [
            "step = 0, loss = 0.6754743120113933, W=[[0.79380007]], b=[0.85020048]\n",
            "step = 400, loss = 0.00011450961822949182, W=[[1.00694893]], b=[0.97491831]\n",
            "step = 800, loss = 7.306390620880875e-06, W=[[1.00175529]], b=[0.99366441]\n",
            "step = 1200, loss = 4.6619091680016175e-07, W=[[1.00044338]], b=[0.99839964]\n",
            "step = 1600, loss = 2.9745736600096984e-08, W=[[1.000112]], b=[0.99959575]\n",
            "step = 2000, loss = 1.897953851103611e-09, W=[[1.00002829]], b=[0.99989789]\n",
            "step = 2400, loss = 1.2110067635226464e-10, W=[[1.00000715]], b=[0.99997421]\n",
            "step = 2800, loss = 7.726939091790498e-12, W=[[1.00000181]], b=[0.99999348]\n",
            "step = 3200, loss = 4.93024395105676e-13, W=[[1.00000046]], b=[0.99999835]\n",
            "step = 3600, loss = 3.145787106056979e-14, W=[[1.00000012]], b=[0.99999958]\n",
            "step = 4000, loss = 2.0071981119323005e-15, W=[[1.00000003]], b=[0.99999989]\n",
            "step = 4400, loss = 1.2807110089166637e-16, W=[[1.00000001]], b=[0.99999997]\n",
            "step = 4800, loss = 8.171691499141112e-18, W=[[1.]], b=[0.99999999]\n",
            "step = 5200, loss = 5.214020976148815e-19, W=[[1.]], b=[1.]\n",
            "step = 5600, loss = 3.326835854592518e-20, W=[[1.]], b=[1.]\n",
            "step = 6000, loss = 2.122684051329318e-21, W=[[1.]], b=[1.]\n",
            "step = 6400, loss = 1.3543120311037648e-22, W=[[1.]], b=[1.]\n",
            "step = 6800, loss = 8.64067882587516e-24, W=[[1.]], b=[1.]\n",
            "step = 7200, loss = 5.520318847117732e-25, W=[[1.]], b=[1.]\n",
            "step = 7600, loss = 3.5400695185187876e-26, W=[[1.]], b=[1.]\n"
          ]
        }
      ]
    },
    {
      "cell_type": "code",
      "source": [
        "def predict(X):\n",
        "  y = np.dot(X, W) + b\n",
        "\n",
        "  return y\n",
        "\n",
        "predict(43)"
      ],
      "metadata": {
        "id": "dFC9mCUmT_JL",
        "colab": {
          "base_uri": "https://localhost:8080/"
        },
        "outputId": "2b609a3e-a5e2-4004-a4e2-044a035e6ed8"
      },
      "execution_count": null,
      "outputs": [
        {
          "output_type": "execute_result",
          "data": {
            "text/plain": [
              "array([[44.]])"
            ]
          },
          "metadata": {},
          "execution_count": 10
        }
      ]
    }
  ]
}