{
  "nbformat": 4,
  "nbformat_minor": 0,
  "metadata": {
    "colab": {
      "provenance": [],
      "gpuType": "T4",
      "authorship_tag": "ABX9TyMgRIG9HfDwMRdN7S77SlW/",
      "include_colab_link": true
    },
    "kernelspec": {
      "name": "python3",
      "display_name": "Python 3"
    },
    "language_info": {
      "name": "python"
    },
    "accelerator": "GPU"
  },
  "cells": [
    {
      "cell_type": "markdown",
      "metadata": {
        "id": "view-in-github",
        "colab_type": "text"
      },
      "source": [
        "<a href=\"https://colab.research.google.com/github/pythonpdnp/MS_kofia/blob/main/11_NeuralNetwork.ipynb\" target=\"_parent\"><img src=\"https://colab.research.google.com/assets/colab-badge.svg\" alt=\"Open In Colab\"/></a>"
      ]
    },
    {
      "cell_type": "markdown",
      "source": [
        "# Artificial NeuralNetwork(ANN)"
      ],
      "metadata": {
        "id": "_Lftir8nMYDW"
      }
    },
    {
      "cell_type": "markdown",
      "source": [
        "### 데이터 입력 및 전처리"
      ],
      "metadata": {
        "id": "W9qt2shkS_Rr"
      }
    },
    {
      "cell_type": "code",
      "execution_count": 1,
      "metadata": {
        "id": "gqQSv1ewqBM7",
        "colab": {
          "base_uri": "https://localhost:8080/"
        },
        "outputId": "f1ab4b03-af3f-4cc7-9b31-d04fd6f26aad"
      },
      "outputs": [
        {
          "output_type": "stream",
          "name": "stdout",
          "text": [
            "2.17.0\n"
          ]
        }
      ],
      "source": [
        "import tensorflow as tf\n",
        "\n",
        "print(tf.__version__)"
      ]
    },
    {
      "cell_type": "code",
      "source": [
        "# MNIST 데이터셋 로드\n",
        "\n",
        "(train_images, train_labels), (test_images, test_labels) = tf.keras.datasets.mnist.load_data()"
      ],
      "metadata": {
        "colab": {
          "base_uri": "https://localhost:8080/"
        },
        "id": "n9XWoanDbCa3",
        "outputId": "0d5603a1-17f5-4763-e97e-86f3f96d0e34"
      },
      "execution_count": 2,
      "outputs": [
        {
          "output_type": "stream",
          "name": "stdout",
          "text": [
            "Downloading data from https://storage.googleapis.com/tensorflow/tf-keras-datasets/mnist.npz\n",
            "\u001b[1m11490434/11490434\u001b[0m \u001b[32m━━━━━━━━━━━━━━━━━━━━\u001b[0m\u001b[37m\u001b[0m \u001b[1m0s\u001b[0m 0us/step\n"
          ]
        }
      ]
    },
    {
      "cell_type": "markdown",
      "source": [
        "| **특징**                 | **scikit-learn `load_digits`**                            | **Keras `mnist`**                                         |\n",
        "|--------------------------|----------------------------------------------------------|-----------------------------------------------------------|\n",
        "| **데이터 호출 방식**     | `load_digits()`                                          | `tf.keras.datasets.mnist.load_data()`                     |\n",
        "| **이미지 해상도**        | **8x8 픽셀**                                             | **28x28 픽셀**                                            |\n",
        "| **데이터 크기**          | **1,797개**의 샘플 (모두 훈련용으로 사용 가능)            | **60,000개**의 훈련 샘플과 **10,000개**의 테스트 샘플     |\n",
        "| **입력 데이터 형태**     | **2D 배열**: `(1797, 64)` (8x8 이미지를 64차원 벡터로 펼침) | **3D 배열**: 훈련 `(60000, 28, 28)`, 테스트 `(10000, 28, 28)` |\n",
        "| **출력 데이터 형태**     | **1D 배열**: `(1797,)` (0-9 레이블)                       | **1D 배열**: 훈련 `(60000,)`, 테스트 `(10000,)` (0-9 레이블) |\n",
        "| **픽셀 값 범위**         | **0-16 범위** (흑백 이미지, 저해상도)                     | **0-255 범위** (흑백 이미지, 고해상도)                    |"
      ],
      "metadata": {
        "id": "D4z0iF0kPIrh"
      }
    },
    {
      "cell_type": "code",
      "source": [
        "# 이미지 데이터를 28x28에서 784 (28x28=784) 차원의 벡터로 변환하고 스케일링\n",
        "train_images = train_images.reshape((60000, 28 * 28)).astype('float32') / 255\n",
        "test_images = test_images.reshape((10000, 28 * 28)).astype('float32') / 255\n",
        "\n",
        "train_images.shape, test_images.shape"
      ],
      "metadata": {
        "colab": {
          "base_uri": "https://localhost:8080/"
        },
        "id": "9mOPR1eoV63v",
        "outputId": "ccbfd371-b2a2-4dc9-bc22-9febf6cd77d5"
      },
      "execution_count": 3,
      "outputs": [
        {
          "output_type": "execute_result",
          "data": {
            "text/plain": [
              "((60000, 784), (10000, 784))"
            ]
          },
          "metadata": {},
          "execution_count": 3
        }
      ]
    },
    {
      "cell_type": "code",
      "source": [
        "# 레이블을 One-hot encoding\n",
        "\n",
        "train_labels = tf.keras.utils.to_categorical(train_labels)\n",
        "test_labels = tf.keras.utils.to_categorical(test_labels)\n",
        "\n",
        "train_labels.shape, test_labels.shape"
      ],
      "metadata": {
        "colab": {
          "base_uri": "https://localhost:8080/"
        },
        "id": "eXWT8QAyadsQ",
        "outputId": "04761aca-9404-4a23-baea-88aec092fcfe"
      },
      "execution_count": 4,
      "outputs": [
        {
          "output_type": "execute_result",
          "data": {
            "text/plain": [
              "((60000, 10), (10000, 10))"
            ]
          },
          "metadata": {},
          "execution_count": 4
        }
      ]
    },
    {
      "cell_type": "markdown",
      "source": [
        "### 신경망 생성 - 훈련 및 테스트"
      ],
      "metadata": {
        "id": "R2owd53Ki9F4"
      }
    },
    {
      "cell_type": "code",
      "source": [
        "layers = tf.keras.layers\n",
        "models = tf.keras.models\n",
        "\n",
        "\n",
        "# 2. 신경망 모델 생성\n",
        "model = models.Sequential([\n",
        "    tf.keras.Input(shape=(784,)),\n",
        "    layers.Dense(512, activation='relu'),\n",
        "    layers.Dense(256, activation='relu'),\n",
        "    layers.Dense(10, activation='softmax')\n",
        "\n",
        "])\n",
        "\n",
        "# 3. 모델 컴파일\n",
        "model.compile(optimizer='rmsprop',\n",
        "              loss='categorical_crossentropy',\n",
        "              metrics=['accuracy'])\n",
        "\n",
        "# 4. 모델 훈련\n",
        "model.fit(train_images, train_labels, epochs=5, batch_size=128)\n",
        "\n"
      ],
      "metadata": {
        "colab": {
          "base_uri": "https://localhost:8080/"
        },
        "outputId": "f4dbafcd-adc5-4a4c-97bc-4db18f36cc0a",
        "id": "vrE7ULQzdNJU"
      },
      "execution_count": 5,
      "outputs": [
        {
          "output_type": "stream",
          "name": "stdout",
          "text": [
            "Epoch 1/5\n",
            "\u001b[1m469/469\u001b[0m \u001b[32m━━━━━━━━━━━━━━━━━━━━\u001b[0m\u001b[37m\u001b[0m \u001b[1m4s\u001b[0m 4ms/step - accuracy: 0.8717 - loss: 0.4221\n",
            "Epoch 2/5\n",
            "\u001b[1m469/469\u001b[0m \u001b[32m━━━━━━━━━━━━━━━━━━━━\u001b[0m\u001b[37m\u001b[0m \u001b[1m3s\u001b[0m 3ms/step - accuracy: 0.9726 - loss: 0.0899\n",
            "Epoch 3/5\n",
            "\u001b[1m469/469\u001b[0m \u001b[32m━━━━━━━━━━━━━━━━━━━━\u001b[0m\u001b[37m\u001b[0m \u001b[1m3s\u001b[0m 3ms/step - accuracy: 0.9833 - loss: 0.0547\n",
            "Epoch 4/5\n",
            "\u001b[1m469/469\u001b[0m \u001b[32m━━━━━━━━━━━━━━━━━━━━\u001b[0m\u001b[37m\u001b[0m \u001b[1m1s\u001b[0m 2ms/step - accuracy: 0.9884 - loss: 0.0373\n",
            "Epoch 5/5\n",
            "\u001b[1m469/469\u001b[0m \u001b[32m━━━━━━━━━━━━━━━━━━━━\u001b[0m\u001b[37m\u001b[0m \u001b[1m1s\u001b[0m 3ms/step - accuracy: 0.9906 - loss: 0.0271\n"
          ]
        },
        {
          "output_type": "execute_result",
          "data": {
            "text/plain": [
              "<keras.src.callbacks.history.History at 0x7e29fddb7b50>"
            ]
          },
          "metadata": {},
          "execution_count": 5
        }
      ]
    },
    {
      "cell_type": "code",
      "source": [
        "# 5. 모델 평가\n",
        "test_loss, test_acc = model.evaluate(test_images, test_labels)\n",
        "print(f\"Test Accuracy: {test_acc:.4f}\")"
      ],
      "metadata": {
        "id": "COtirkc3TrFh",
        "colab": {
          "base_uri": "https://localhost:8080/"
        },
        "outputId": "0daf6283-d87c-4c40-cb5f-d91667181511"
      },
      "execution_count": 6,
      "outputs": [
        {
          "output_type": "stream",
          "name": "stdout",
          "text": [
            "\u001b[1m313/313\u001b[0m \u001b[32m━━━━━━━━━━━━━━━━━━━━\u001b[0m\u001b[37m\u001b[0m \u001b[1m3s\u001b[0m 5ms/step - accuracy: 0.9780 - loss: 0.0788\n",
            "Test Accuracy: 0.9811\n"
          ]
        }
      ]
    }
  ]
}